{
 "cells": [
  {
   "cell_type": "code",
   "execution_count": null,
   "id": "5ce858ae",
   "metadata": {},
   "outputs": [],
   "source": [
    "# 🧪 Resampling Method Comparison for Fraud Detection\n",
    "\n",
    "import pandas as pd\n",
    "import matplotlib.pyplot as plt\n",
    "import seaborn as sns\n",
    "from sklearn.ensemble import RandomForestClassifier\n",
    "from sklearn.metrics import classification_report, confusion_matrix\n",
    "from resampling import split_data, apply_resampling\n",
    "from sklearn.preprocessing import StandardScaler\n",
    "\n",
    "# Load dataset\n",
    "data = pd.read_csv('../data/creditcard.csv')\n",
    "\n",
    "resampling_methods = ['SMOTE', 'ADASYN', 'NEARMISS', 'SMOTETOMEK', 'SMOTEENN']\n",
    "results = {}\n",
    "\n",
    "for method in resampling_methods:\n",
    "    print(f\"\\n=== Method: {method} ===\")\n",
    "    X_train, X_test, y_train, y_test = split_data(data)\n",
    "    X_train, y_train = apply_resampling(X_train, y_train, method=method)\n",
    "    \n",
    "    scaler = StandardScaler()\n",
    "    X_train = scaler.fit_transform(X_train)\n",
    "    X_test = scaler.transform(X_test)\n",
    "    \n",
    "    clf = RandomForestClassifier(n_estimators=100, random_state=42)\n",
    "    clf.fit(X_train, y_train)\n",
    "    y_pred = clf.predict(X_test)\n",
    "    \n",
    "    print(classification_report(y_test, y_pred))\n",
    "    \n",
    "    cm = confusion_matrix(y_test, y_pred)\n",
    "    results[method] = {\n",
    "        'report': classification_report(y_test, y_pred, output_dict=True),\n",
    "        'conf_matrix': cm\n",
    "    }\n",
    "\n",
    "fig, axes = plt.subplots(3, 2, figsize=(15, 15))\n",
    "axes = axes.flatten()\n",
    "for idx, method in enumerate(resampling_methods):\n",
    "    cm = results[method]['conf_matrix']\n",
    "    sns.heatmap(cm, annot=True, fmt='d', cmap='Blues', ax=axes[idx])\n",
    "    axes[idx].set_title(f\"{method} Confusion Matrix\")\n",
    "    axes[idx].set_xlabel('Predicted')\n",
    "    axes[idx].set_ylabel('Actual')\n",
    "plt.tight_layout()\n",
    "plt.show()\n"
   ]
  }
 ],
 "metadata": {
  "kernelspec": {
   "display_name": "Python 3",
   "language": "python",
   "name": "python3"
  },
  "language_info": {
   "codemirror_mode": {
    "name": "ipython",
    "version": 3
   },
   "file_extension": ".py",
   "mimetype": "text/x-python",
   "name": "python",
   "nbconvert_exporter": "python",
   "pygments_lexer": "ipython3",
   "version": "3.10.11"
  }
 },
 "nbformat": 4,
 "nbformat_minor": 5
}
